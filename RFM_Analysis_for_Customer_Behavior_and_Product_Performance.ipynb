{
  "nbformat": 4,
  "nbformat_minor": 0,
  "metadata": {
    "colab": {
      "provenance": []
    },
    "kernelspec": {
      "name": "python3",
      "display_name": "Python 3"
    },
    "language_info": {
      "name": "python"
    }
  },
  "cells": [
    {
      "cell_type": "code",
      "execution_count": 61,
      "metadata": {
        "colab": {
          "base_uri": "https://localhost:8080/"
        },
        "id": "9G-jI8T8rqZl",
        "outputId": "90bdc7b7-72da-45ec-b214-21ae7b79ac08"
      },
      "outputs": [
        {
          "output_type": "stream",
          "name": "stderr",
          "text": [
            "/usr/local/lib/python3.10/dist-packages/ipykernel/ipkernel.py:283: DeprecationWarning: `should_run_async` will not call `transform_cell` automatically in the future. Please pass the result to `transformed_cell` argument and any exception that happen during thetransform in `preprocessing_exc_tuple` in IPython 7.17 and above.\n",
            "  and should_run_async(code)\n"
          ]
        }
      ],
      "source": [
        "#Install the required libraries\n",
        "import pandas as pd\n",
        "import numpy as np\n",
        "from matplotlib import pyplot as plt\n",
        "from mlxtend.frequent_patterns import apriori, association_rules\n",
        "%matplotlib inline"
      ]
    },
    {
      "cell_type": "code",
      "source": [
        "df = pd.read_excel('/content/Product Details.xlsx')\n",
        "df.head()"
      ],
      "metadata": {
        "id": "B-JX7cJIrrZF",
        "colab": {
          "base_uri": "https://localhost:8080/",
          "height": 453
        },
        "outputId": "f713f520-d4d0-44be-9c08-3c9637a8b017"
      },
      "execution_count": 62,
      "outputs": [
        {
          "output_type": "stream",
          "name": "stderr",
          "text": [
            "/usr/local/lib/python3.10/dist-packages/ipykernel/ipkernel.py:283: DeprecationWarning: `should_run_async` will not call `transform_cell` automatically in the future. Please pass the result to `transformed_cell` argument and any exception that happen during thetransform in `preprocessing_exc_tuple` in IPython 7.17 and above.\n",
            "  and should_run_async(code)\n"
          ]
        },
        {
          "output_type": "execute_result",
          "data": {
            "text/plain": [
              "  InvoiceNo StockCode                          Description  Quantity  \\\n",
              "0    536365    85123A   WHITE HANGING HEART T-LIGHT HOLDER         6   \n",
              "1    536365     71053                  WHITE METAL LANTERN         6   \n",
              "2    536365    84406B       CREAM CUPID HEARTS COAT HANGER         8   \n",
              "3    536365    84029G  KNITTED UNION FLAG HOT WATER BOTTLE         6   \n",
              "4    536365    84029E       RED WOOLLY HOTTIE WHITE HEART.         6   \n",
              "\n",
              "          InvoiceDate  UnitPrice  CustomerID         Country  \n",
              "0 2010-12-01 08:26:00       2.55     17850.0  United Kingdom  \n",
              "1 2010-12-01 08:26:00       3.39     17850.0  United Kingdom  \n",
              "2 2010-12-01 08:26:00       2.75     17850.0  United Kingdom  \n",
              "3 2010-12-01 08:26:00       3.39     17850.0  United Kingdom  \n",
              "4 2010-12-01 08:26:00       3.39     17850.0  United Kingdom  "
            ],
            "text/html": [
              "\n",
              "  <div id=\"df-427442e4-474b-49f3-94ca-1b54bafb991b\" class=\"colab-df-container\">\n",
              "    <div>\n",
              "<style scoped>\n",
              "    .dataframe tbody tr th:only-of-type {\n",
              "        vertical-align: middle;\n",
              "    }\n",
              "\n",
              "    .dataframe tbody tr th {\n",
              "        vertical-align: top;\n",
              "    }\n",
              "\n",
              "    .dataframe thead th {\n",
              "        text-align: right;\n",
              "    }\n",
              "</style>\n",
              "<table border=\"1\" class=\"dataframe\">\n",
              "  <thead>\n",
              "    <tr style=\"text-align: right;\">\n",
              "      <th></th>\n",
              "      <th>InvoiceNo</th>\n",
              "      <th>StockCode</th>\n",
              "      <th>Description</th>\n",
              "      <th>Quantity</th>\n",
              "      <th>InvoiceDate</th>\n",
              "      <th>UnitPrice</th>\n",
              "      <th>CustomerID</th>\n",
              "      <th>Country</th>\n",
              "    </tr>\n",
              "  </thead>\n",
              "  <tbody>\n",
              "    <tr>\n",
              "      <th>0</th>\n",
              "      <td>536365</td>\n",
              "      <td>85123A</td>\n",
              "      <td>WHITE HANGING HEART T-LIGHT HOLDER</td>\n",
              "      <td>6</td>\n",
              "      <td>2010-12-01 08:26:00</td>\n",
              "      <td>2.55</td>\n",
              "      <td>17850.0</td>\n",
              "      <td>United Kingdom</td>\n",
              "    </tr>\n",
              "    <tr>\n",
              "      <th>1</th>\n",
              "      <td>536365</td>\n",
              "      <td>71053</td>\n",
              "      <td>WHITE METAL LANTERN</td>\n",
              "      <td>6</td>\n",
              "      <td>2010-12-01 08:26:00</td>\n",
              "      <td>3.39</td>\n",
              "      <td>17850.0</td>\n",
              "      <td>United Kingdom</td>\n",
              "    </tr>\n",
              "    <tr>\n",
              "      <th>2</th>\n",
              "      <td>536365</td>\n",
              "      <td>84406B</td>\n",
              "      <td>CREAM CUPID HEARTS COAT HANGER</td>\n",
              "      <td>8</td>\n",
              "      <td>2010-12-01 08:26:00</td>\n",
              "      <td>2.75</td>\n",
              "      <td>17850.0</td>\n",
              "      <td>United Kingdom</td>\n",
              "    </tr>\n",
              "    <tr>\n",
              "      <th>3</th>\n",
              "      <td>536365</td>\n",
              "      <td>84029G</td>\n",
              "      <td>KNITTED UNION FLAG HOT WATER BOTTLE</td>\n",
              "      <td>6</td>\n",
              "      <td>2010-12-01 08:26:00</td>\n",
              "      <td>3.39</td>\n",
              "      <td>17850.0</td>\n",
              "      <td>United Kingdom</td>\n",
              "    </tr>\n",
              "    <tr>\n",
              "      <th>4</th>\n",
              "      <td>536365</td>\n",
              "      <td>84029E</td>\n",
              "      <td>RED WOOLLY HOTTIE WHITE HEART.</td>\n",
              "      <td>6</td>\n",
              "      <td>2010-12-01 08:26:00</td>\n",
              "      <td>3.39</td>\n",
              "      <td>17850.0</td>\n",
              "      <td>United Kingdom</td>\n",
              "    </tr>\n",
              "  </tbody>\n",
              "</table>\n",
              "</div>\n",
              "    <div class=\"colab-df-buttons\">\n",
              "\n",
              "  <div class=\"colab-df-container\">\n",
              "    <button class=\"colab-df-convert\" onclick=\"convertToInteractive('df-427442e4-474b-49f3-94ca-1b54bafb991b')\"\n",
              "            title=\"Convert this dataframe to an interactive table.\"\n",
              "            style=\"display:none;\">\n",
              "\n",
              "  <svg xmlns=\"http://www.w3.org/2000/svg\" height=\"24px\" viewBox=\"0 -960 960 960\">\n",
              "    <path d=\"M120-120v-720h720v720H120Zm60-500h600v-160H180v160Zm220 220h160v-160H400v160Zm0 220h160v-160H400v160ZM180-400h160v-160H180v160Zm440 0h160v-160H620v160ZM180-180h160v-160H180v160Zm440 0h160v-160H620v160Z\"/>\n",
              "  </svg>\n",
              "    </button>\n",
              "\n",
              "  <style>\n",
              "    .colab-df-container {\n",
              "      display:flex;\n",
              "      gap: 12px;\n",
              "    }\n",
              "\n",
              "    .colab-df-convert {\n",
              "      background-color: #E8F0FE;\n",
              "      border: none;\n",
              "      border-radius: 50%;\n",
              "      cursor: pointer;\n",
              "      display: none;\n",
              "      fill: #1967D2;\n",
              "      height: 32px;\n",
              "      padding: 0 0 0 0;\n",
              "      width: 32px;\n",
              "    }\n",
              "\n",
              "    .colab-df-convert:hover {\n",
              "      background-color: #E2EBFA;\n",
              "      box-shadow: 0px 1px 2px rgba(60, 64, 67, 0.3), 0px 1px 3px 1px rgba(60, 64, 67, 0.15);\n",
              "      fill: #174EA6;\n",
              "    }\n",
              "\n",
              "    .colab-df-buttons div {\n",
              "      margin-bottom: 4px;\n",
              "    }\n",
              "\n",
              "    [theme=dark] .colab-df-convert {\n",
              "      background-color: #3B4455;\n",
              "      fill: #D2E3FC;\n",
              "    }\n",
              "\n",
              "    [theme=dark] .colab-df-convert:hover {\n",
              "      background-color: #434B5C;\n",
              "      box-shadow: 0px 1px 3px 1px rgba(0, 0, 0, 0.15);\n",
              "      filter: drop-shadow(0px 1px 2px rgba(0, 0, 0, 0.3));\n",
              "      fill: #FFFFFF;\n",
              "    }\n",
              "  </style>\n",
              "\n",
              "    <script>\n",
              "      const buttonEl =\n",
              "        document.querySelector('#df-427442e4-474b-49f3-94ca-1b54bafb991b button.colab-df-convert');\n",
              "      buttonEl.style.display =\n",
              "        google.colab.kernel.accessAllowed ? 'block' : 'none';\n",
              "\n",
              "      async function convertToInteractive(key) {\n",
              "        const element = document.querySelector('#df-427442e4-474b-49f3-94ca-1b54bafb991b');\n",
              "        const dataTable =\n",
              "          await google.colab.kernel.invokeFunction('convertToInteractive',\n",
              "                                                    [key], {});\n",
              "        if (!dataTable) return;\n",
              "\n",
              "        const docLinkHtml = 'Like what you see? Visit the ' +\n",
              "          '<a target=\"_blank\" href=https://colab.research.google.com/notebooks/data_table.ipynb>data table notebook</a>'\n",
              "          + ' to learn more about interactive tables.';\n",
              "        element.innerHTML = '';\n",
              "        dataTable['output_type'] = 'display_data';\n",
              "        await google.colab.output.renderOutput(dataTable, element);\n",
              "        const docLink = document.createElement('div');\n",
              "        docLink.innerHTML = docLinkHtml;\n",
              "        element.appendChild(docLink);\n",
              "      }\n",
              "    </script>\n",
              "  </div>\n",
              "\n",
              "\n",
              "<div id=\"df-fa389376-61fe-4852-b119-e882bda1cb12\">\n",
              "  <button class=\"colab-df-quickchart\" onclick=\"quickchart('df-fa389376-61fe-4852-b119-e882bda1cb12')\"\n",
              "            title=\"Suggest charts\"\n",
              "            style=\"display:none;\">\n",
              "\n",
              "<svg xmlns=\"http://www.w3.org/2000/svg\" height=\"24px\"viewBox=\"0 0 24 24\"\n",
              "     width=\"24px\">\n",
              "    <g>\n",
              "        <path d=\"M19 3H5c-1.1 0-2 .9-2 2v14c0 1.1.9 2 2 2h14c1.1 0 2-.9 2-2V5c0-1.1-.9-2-2-2zM9 17H7v-7h2v7zm4 0h-2V7h2v10zm4 0h-2v-4h2v4z\"/>\n",
              "    </g>\n",
              "</svg>\n",
              "  </button>\n",
              "\n",
              "<style>\n",
              "  .colab-df-quickchart {\n",
              "      --bg-color: #E8F0FE;\n",
              "      --fill-color: #1967D2;\n",
              "      --hover-bg-color: #E2EBFA;\n",
              "      --hover-fill-color: #174EA6;\n",
              "      --disabled-fill-color: #AAA;\n",
              "      --disabled-bg-color: #DDD;\n",
              "  }\n",
              "\n",
              "  [theme=dark] .colab-df-quickchart {\n",
              "      --bg-color: #3B4455;\n",
              "      --fill-color: #D2E3FC;\n",
              "      --hover-bg-color: #434B5C;\n",
              "      --hover-fill-color: #FFFFFF;\n",
              "      --disabled-bg-color: #3B4455;\n",
              "      --disabled-fill-color: #666;\n",
              "  }\n",
              "\n",
              "  .colab-df-quickchart {\n",
              "    background-color: var(--bg-color);\n",
              "    border: none;\n",
              "    border-radius: 50%;\n",
              "    cursor: pointer;\n",
              "    display: none;\n",
              "    fill: var(--fill-color);\n",
              "    height: 32px;\n",
              "    padding: 0;\n",
              "    width: 32px;\n",
              "  }\n",
              "\n",
              "  .colab-df-quickchart:hover {\n",
              "    background-color: var(--hover-bg-color);\n",
              "    box-shadow: 0 1px 2px rgba(60, 64, 67, 0.3), 0 1px 3px 1px rgba(60, 64, 67, 0.15);\n",
              "    fill: var(--button-hover-fill-color);\n",
              "  }\n",
              "\n",
              "  .colab-df-quickchart-complete:disabled,\n",
              "  .colab-df-quickchart-complete:disabled:hover {\n",
              "    background-color: var(--disabled-bg-color);\n",
              "    fill: var(--disabled-fill-color);\n",
              "    box-shadow: none;\n",
              "  }\n",
              "\n",
              "  .colab-df-spinner {\n",
              "    border: 2px solid var(--fill-color);\n",
              "    border-color: transparent;\n",
              "    border-bottom-color: var(--fill-color);\n",
              "    animation:\n",
              "      spin 1s steps(1) infinite;\n",
              "  }\n",
              "\n",
              "  @keyframes spin {\n",
              "    0% {\n",
              "      border-color: transparent;\n",
              "      border-bottom-color: var(--fill-color);\n",
              "      border-left-color: var(--fill-color);\n",
              "    }\n",
              "    20% {\n",
              "      border-color: transparent;\n",
              "      border-left-color: var(--fill-color);\n",
              "      border-top-color: var(--fill-color);\n",
              "    }\n",
              "    30% {\n",
              "      border-color: transparent;\n",
              "      border-left-color: var(--fill-color);\n",
              "      border-top-color: var(--fill-color);\n",
              "      border-right-color: var(--fill-color);\n",
              "    }\n",
              "    40% {\n",
              "      border-color: transparent;\n",
              "      border-right-color: var(--fill-color);\n",
              "      border-top-color: var(--fill-color);\n",
              "    }\n",
              "    60% {\n",
              "      border-color: transparent;\n",
              "      border-right-color: var(--fill-color);\n",
              "    }\n",
              "    80% {\n",
              "      border-color: transparent;\n",
              "      border-right-color: var(--fill-color);\n",
              "      border-bottom-color: var(--fill-color);\n",
              "    }\n",
              "    90% {\n",
              "      border-color: transparent;\n",
              "      border-bottom-color: var(--fill-color);\n",
              "    }\n",
              "  }\n",
              "</style>\n",
              "\n",
              "  <script>\n",
              "    async function quickchart(key) {\n",
              "      const quickchartButtonEl =\n",
              "        document.querySelector('#' + key + ' button');\n",
              "      quickchartButtonEl.disabled = true;  // To prevent multiple clicks.\n",
              "      quickchartButtonEl.classList.add('colab-df-spinner');\n",
              "      try {\n",
              "        const charts = await google.colab.kernel.invokeFunction(\n",
              "            'suggestCharts', [key], {});\n",
              "      } catch (error) {\n",
              "        console.error('Error during call to suggestCharts:', error);\n",
              "      }\n",
              "      quickchartButtonEl.classList.remove('colab-df-spinner');\n",
              "      quickchartButtonEl.classList.add('colab-df-quickchart-complete');\n",
              "    }\n",
              "    (() => {\n",
              "      let quickchartButtonEl =\n",
              "        document.querySelector('#df-fa389376-61fe-4852-b119-e882bda1cb12 button');\n",
              "      quickchartButtonEl.style.display =\n",
              "        google.colab.kernel.accessAllowed ? 'block' : 'none';\n",
              "    })();\n",
              "  </script>\n",
              "</div>\n",
              "\n",
              "    </div>\n",
              "  </div>\n"
            ],
            "application/vnd.google.colaboratory.intrinsic+json": {
              "type": "dataframe",
              "variable_name": "df"
            }
          },
          "metadata": {},
          "execution_count": 62
        }
      ]
    },
    {
      "cell_type": "code",
      "source": [
        "len(df)"
      ],
      "metadata": {
        "colab": {
          "base_uri": "https://localhost:8080/"
        },
        "id": "d8yqNRxjZcL2",
        "outputId": "931039d9-c075-4ad7-832e-cf0d4beab36b"
      },
      "execution_count": 63,
      "outputs": [
        {
          "output_type": "stream",
          "name": "stderr",
          "text": [
            "/usr/local/lib/python3.10/dist-packages/ipykernel/ipkernel.py:283: DeprecationWarning: `should_run_async` will not call `transform_cell` automatically in the future. Please pass the result to `transformed_cell` argument and any exception that happen during thetransform in `preprocessing_exc_tuple` in IPython 7.17 and above.\n",
            "  and should_run_async(code)\n"
          ]
        },
        {
          "output_type": "execute_result",
          "data": {
            "text/plain": [
              "541909"
            ]
          },
          "metadata": {},
          "execution_count": 63
        }
      ]
    },
    {
      "cell_type": "code",
      "source": [
        "clean_df = df[(df['Quantity']>0) & (df['CustomerID']>0)]\n",
        "clean_df.head()\n",
        "missing_data = clean_df.isnull().sum()\n",
        "missing_data, len(clean_df), clean_df.shape, clean_df.head()"
      ],
      "metadata": {
        "colab": {
          "base_uri": "https://localhost:8080/"
        },
        "id": "5zPabw6xb2QC",
        "outputId": "7b565a70-4229-4568-babf-9c91dd9c2cc7"
      },
      "execution_count": 64,
      "outputs": [
        {
          "output_type": "stream",
          "name": "stderr",
          "text": [
            "/usr/local/lib/python3.10/dist-packages/ipykernel/ipkernel.py:283: DeprecationWarning: `should_run_async` will not call `transform_cell` automatically in the future. Please pass the result to `transformed_cell` argument and any exception that happen during thetransform in `preprocessing_exc_tuple` in IPython 7.17 and above.\n",
            "  and should_run_async(code)\n"
          ]
        },
        {
          "output_type": "execute_result",
          "data": {
            "text/plain": [
              "(InvoiceNo      0\n",
              " StockCode      0\n",
              " Description    0\n",
              " Quantity       0\n",
              " InvoiceDate    0\n",
              " UnitPrice      0\n",
              " CustomerID     0\n",
              " Country        0\n",
              " dtype: int64,\n",
              " 397924,\n",
              " (397924, 8),\n",
              "   InvoiceNo StockCode                          Description  Quantity  \\\n",
              " 0    536365    85123A   WHITE HANGING HEART T-LIGHT HOLDER         6   \n",
              " 1    536365     71053                  WHITE METAL LANTERN         6   \n",
              " 2    536365    84406B       CREAM CUPID HEARTS COAT HANGER         8   \n",
              " 3    536365    84029G  KNITTED UNION FLAG HOT WATER BOTTLE         6   \n",
              " 4    536365    84029E       RED WOOLLY HOTTIE WHITE HEART.         6   \n",
              " \n",
              "           InvoiceDate  UnitPrice  CustomerID         Country  \n",
              " 0 2010-12-01 08:26:00       2.55     17850.0  United Kingdom  \n",
              " 1 2010-12-01 08:26:00       3.39     17850.0  United Kingdom  \n",
              " 2 2010-12-01 08:26:00       2.75     17850.0  United Kingdom  \n",
              " 3 2010-12-01 08:26:00       3.39     17850.0  United Kingdom  \n",
              " 4 2010-12-01 08:26:00       3.39     17850.0  United Kingdom  )"
            ]
          },
          "metadata": {},
          "execution_count": 64
        }
      ]
    },
    {
      "cell_type": "markdown",
      "source": [
        "Let's group the Description & Quantity to see the top products sold"
      ],
      "metadata": {
        "id": "t88UruAqeqLm"
      }
    },
    {
      "cell_type": "code",
      "source": [
        "top_prods = clean_df.groupby(['Description'])['Quantity'].sum().sort_values(ascending=False)\n",
        "top_prods.head(10)"
      ],
      "metadata": {
        "colab": {
          "base_uri": "https://localhost:8080/",
          "height": 485
        },
        "id": "992xu5DSdMK2",
        "outputId": "11e611d3-1040-4bd4-f502-0eabf83bf4b5"
      },
      "execution_count": 72,
      "outputs": [
        {
          "output_type": "stream",
          "name": "stderr",
          "text": [
            "/usr/local/lib/python3.10/dist-packages/ipykernel/ipkernel.py:283: DeprecationWarning: `should_run_async` will not call `transform_cell` automatically in the future. Please pass the result to `transformed_cell` argument and any exception that happen during thetransform in `preprocessing_exc_tuple` in IPython 7.17 and above.\n",
            "  and should_run_async(code)\n"
          ]
        },
        {
          "output_type": "execute_result",
          "data": {
            "text/plain": [
              "Description\n",
              "PAPER CRAFT , LITTLE BIRDIE           80995\n",
              "MEDIUM CERAMIC TOP STORAGE JAR        77916\n",
              "WORLD WAR 2 GLIDERS ASSTD DESIGNS     54415\n",
              "JUMBO BAG RED RETROSPOT               46181\n",
              "WHITE HANGING HEART T-LIGHT HOLDER    36725\n",
              "ASSORTED COLOUR BIRD ORNAMENT         35362\n",
              "PACK OF 72 RETROSPOT CAKE CASES       33693\n",
              "POPCORN HOLDER                        30931\n",
              "RABBIT NIGHT LIGHT                    27202\n",
              "MINI PAINT SET VINTAGE                26076\n",
              "Name: Quantity, dtype: int64"
            ],
            "text/html": [
              "<div>\n",
              "<style scoped>\n",
              "    .dataframe tbody tr th:only-of-type {\n",
              "        vertical-align: middle;\n",
              "    }\n",
              "\n",
              "    .dataframe tbody tr th {\n",
              "        vertical-align: top;\n",
              "    }\n",
              "\n",
              "    .dataframe thead th {\n",
              "        text-align: right;\n",
              "    }\n",
              "</style>\n",
              "<table border=\"1\" class=\"dataframe\">\n",
              "  <thead>\n",
              "    <tr style=\"text-align: right;\">\n",
              "      <th></th>\n",
              "      <th>Quantity</th>\n",
              "    </tr>\n",
              "    <tr>\n",
              "      <th>Description</th>\n",
              "      <th></th>\n",
              "    </tr>\n",
              "  </thead>\n",
              "  <tbody>\n",
              "    <tr>\n",
              "      <th>PAPER CRAFT , LITTLE BIRDIE</th>\n",
              "      <td>80995</td>\n",
              "    </tr>\n",
              "    <tr>\n",
              "      <th>MEDIUM CERAMIC TOP STORAGE JAR</th>\n",
              "      <td>77916</td>\n",
              "    </tr>\n",
              "    <tr>\n",
              "      <th>WORLD WAR 2 GLIDERS ASSTD DESIGNS</th>\n",
              "      <td>54415</td>\n",
              "    </tr>\n",
              "    <tr>\n",
              "      <th>JUMBO BAG RED RETROSPOT</th>\n",
              "      <td>46181</td>\n",
              "    </tr>\n",
              "    <tr>\n",
              "      <th>WHITE HANGING HEART T-LIGHT HOLDER</th>\n",
              "      <td>36725</td>\n",
              "    </tr>\n",
              "    <tr>\n",
              "      <th>ASSORTED COLOUR BIRD ORNAMENT</th>\n",
              "      <td>35362</td>\n",
              "    </tr>\n",
              "    <tr>\n",
              "      <th>PACK OF 72 RETROSPOT CAKE CASES</th>\n",
              "      <td>33693</td>\n",
              "    </tr>\n",
              "    <tr>\n",
              "      <th>POPCORN HOLDER</th>\n",
              "      <td>30931</td>\n",
              "    </tr>\n",
              "    <tr>\n",
              "      <th>RABBIT NIGHT LIGHT</th>\n",
              "      <td>27202</td>\n",
              "    </tr>\n",
              "    <tr>\n",
              "      <th>MINI PAINT SET VINTAGE</th>\n",
              "      <td>26076</td>\n",
              "    </tr>\n",
              "  </tbody>\n",
              "</table>\n",
              "</div><br><label><b>dtype:</b> int64</label>"
            ]
          },
          "metadata": {},
          "execution_count": 72
        }
      ]
    },
    {
      "cell_type": "markdown",
      "source": [
        "Let's do RFM analysis and group customers. First, we put the invoice date in proper format & fetch the recent purchase date using max() func.\n",
        "Group the 'invoice date' & 'customer ID', and we then use qcut to rank each RFM metric."
      ],
      "metadata": {
        "id": "0pZBZiDBgatE"
      }
    },
    {
      "cell_type": "code",
      "source": [
        "def calculate_rfm(clean_df):\n",
        "  df_clean1 = clean_df.copy()\n",
        "  df_clean1['InvoiceDate'] = pd.to_datetime(clean_df['InvoiceDate'])\n",
        "  max_date = df_clean1['InvoiceDate'].max()\n",
        "\n",
        "  rfm = clean_df.groupby('CustomerID').agg({\n",
        "      'InvoiceDate': lambda x: (max_date - x.max()).days,\n",
        "      'InvoiceNo' : 'nunique',\n",
        "      'Quantity' : 'sum'\n",
        "  }).reset_index()\n",
        "\n",
        "  rfm.columns = ['CustomerID', 'Recency', 'Frequency', 'Monetary']\n",
        "  return rfm\n",
        "\n",
        "\n",
        "def score(rfm):\n",
        "    # Debugging: Check the number of unique values in each metric\n",
        "    print(\"Unique values in Recency: \", rfm['Recency'].nunique())\n",
        "    print(\"Unique values in Frequency: \", rfm['Frequency'].nunique())\n",
        "    print(\"Unique values in Monetary: \", rfm['Monetary'].nunique())\n",
        "\n",
        "    # Recency Score\n",
        "    try:\n",
        "        rfm['RecencyScore'] = pd.qcut(rfm['Recency'], 5, labels=[5, 4, 3, 2, 1])\n",
        "    except ValueError as e:\n",
        "        print(f\"Error in Recency: {e}\")\n",
        "        rfm['RecencyScore'] = pd.cut(rfm['Recency'], bins=5, labels=[5, 4, 3, 2, 1], duplicates='drop')\n",
        "\n",
        "    # Frequency Score\n",
        "    try:\n",
        "        rfm['FrequencyScore'] = pd.qcut(rfm['Frequency'], 5, labels=[1, 2, 3, 4, 5])\n",
        "    except ValueError as e:\n",
        "        print(f\"Error in Frequency: {e}\")\n",
        "        rfm['FrequencyScore'] = pd.cut(rfm['Frequency'], bins=5, labels=[1, 2, 3, 4, 5], duplicates='drop')\n",
        "\n",
        "    # Monetary Score\n",
        "    try:\n",
        "        rfm['MonetaryScore'] = pd.qcut(rfm['Monetary'], 5, labels=[1, 2, 3, 4, 5])\n",
        "    except ValueError as e:\n",
        "        print(f\"Error in Monetary: {e}\")\n",
        "        rfm['MonetaryScore'] = pd.cut(rfm['Monetary'], bins=5, labels=[1, 2, 3, 4, 5], duplicates='drop')\n",
        "\n",
        "    # Combine RFM Scores\n",
        "    rfm['RFM_Score'] = rfm['RecencyScore'].astype(str) + rfm['FrequencyScore'].astype(str) + rfm['MonetaryScore'].astype(str)\n",
        "\n",
        "    # Calculate total RFM score\n",
        "    rfm['RFMScore'] = rfm[['RecencyScore', 'FrequencyScore', 'MonetaryScore']].sum(axis=1)\n",
        "\n",
        "    return rfm\n",
        "\n",
        "rfm = calculate_rfm(clean_df)\n",
        "score = score(rfm)\n",
        "score.head(5)"
      ],
      "metadata": {
        "colab": {
          "base_uri": "https://localhost:8080/",
          "height": 354
        },
        "id": "Rwa88jGde2TJ",
        "outputId": "eab05964-fb2a-4fd9-f329-f887d0e500ea"
      },
      "execution_count": 85,
      "outputs": [
        {
          "output_type": "stream",
          "name": "stderr",
          "text": [
            "/usr/local/lib/python3.10/dist-packages/ipykernel/ipkernel.py:283: DeprecationWarning: `should_run_async` will not call `transform_cell` automatically in the future. Please pass the result to `transformed_cell` argument and any exception that happen during thetransform in `preprocessing_exc_tuple` in IPython 7.17 and above.\n",
            "  and should_run_async(code)\n"
          ]
        },
        {
          "output_type": "stream",
          "name": "stdout",
          "text": [
            "Unique values in Recency:  349\n",
            "Unique values in Frequency:  59\n",
            "Unique values in Monetary:  1768\n",
            "Error in Frequency: Bin edges must be unique: array([  1.,   1.,   2.,   3.,   6., 210.]).\n",
            "You can drop duplicate edges by setting the 'duplicates' kwarg\n"
          ]
        },
        {
          "output_type": "execute_result",
          "data": {
            "text/plain": [
              "   CustomerID  Recency  Frequency  Monetary RecencyScore FrequencyScore  \\\n",
              "0     12346.0      325          1     74215            1              1   \n",
              "1     12347.0        1          7      2458            5              1   \n",
              "2     12348.0       74          4      2341            2              1   \n",
              "3     12349.0       18          1       631            4              1   \n",
              "4     12350.0      309          1       197            1              1   \n",
              "\n",
              "  MonetaryScore RFM_Score  RFMScore  \n",
              "0             5       115         7  \n",
              "1             5       515        11  \n",
              "2             5       215         8  \n",
              "3             4       414         9  \n",
              "4             2       112         4  "
            ],
            "text/html": [
              "\n",
              "  <div id=\"df-b0ca53c1-d631-4776-ace0-ffbf98f2da3b\" class=\"colab-df-container\">\n",
              "    <div>\n",
              "<style scoped>\n",
              "    .dataframe tbody tr th:only-of-type {\n",
              "        vertical-align: middle;\n",
              "    }\n",
              "\n",
              "    .dataframe tbody tr th {\n",
              "        vertical-align: top;\n",
              "    }\n",
              "\n",
              "    .dataframe thead th {\n",
              "        text-align: right;\n",
              "    }\n",
              "</style>\n",
              "<table border=\"1\" class=\"dataframe\">\n",
              "  <thead>\n",
              "    <tr style=\"text-align: right;\">\n",
              "      <th></th>\n",
              "      <th>CustomerID</th>\n",
              "      <th>Recency</th>\n",
              "      <th>Frequency</th>\n",
              "      <th>Monetary</th>\n",
              "      <th>RecencyScore</th>\n",
              "      <th>FrequencyScore</th>\n",
              "      <th>MonetaryScore</th>\n",
              "      <th>RFM_Score</th>\n",
              "      <th>RFMScore</th>\n",
              "    </tr>\n",
              "  </thead>\n",
              "  <tbody>\n",
              "    <tr>\n",
              "      <th>0</th>\n",
              "      <td>12346.0</td>\n",
              "      <td>325</td>\n",
              "      <td>1</td>\n",
              "      <td>74215</td>\n",
              "      <td>1</td>\n",
              "      <td>1</td>\n",
              "      <td>5</td>\n",
              "      <td>115</td>\n",
              "      <td>7</td>\n",
              "    </tr>\n",
              "    <tr>\n",
              "      <th>1</th>\n",
              "      <td>12347.0</td>\n",
              "      <td>1</td>\n",
              "      <td>7</td>\n",
              "      <td>2458</td>\n",
              "      <td>5</td>\n",
              "      <td>1</td>\n",
              "      <td>5</td>\n",
              "      <td>515</td>\n",
              "      <td>11</td>\n",
              "    </tr>\n",
              "    <tr>\n",
              "      <th>2</th>\n",
              "      <td>12348.0</td>\n",
              "      <td>74</td>\n",
              "      <td>4</td>\n",
              "      <td>2341</td>\n",
              "      <td>2</td>\n",
              "      <td>1</td>\n",
              "      <td>5</td>\n",
              "      <td>215</td>\n",
              "      <td>8</td>\n",
              "    </tr>\n",
              "    <tr>\n",
              "      <th>3</th>\n",
              "      <td>12349.0</td>\n",
              "      <td>18</td>\n",
              "      <td>1</td>\n",
              "      <td>631</td>\n",
              "      <td>4</td>\n",
              "      <td>1</td>\n",
              "      <td>4</td>\n",
              "      <td>414</td>\n",
              "      <td>9</td>\n",
              "    </tr>\n",
              "    <tr>\n",
              "      <th>4</th>\n",
              "      <td>12350.0</td>\n",
              "      <td>309</td>\n",
              "      <td>1</td>\n",
              "      <td>197</td>\n",
              "      <td>1</td>\n",
              "      <td>1</td>\n",
              "      <td>2</td>\n",
              "      <td>112</td>\n",
              "      <td>4</td>\n",
              "    </tr>\n",
              "  </tbody>\n",
              "</table>\n",
              "</div>\n",
              "    <div class=\"colab-df-buttons\">\n",
              "\n",
              "  <div class=\"colab-df-container\">\n",
              "    <button class=\"colab-df-convert\" onclick=\"convertToInteractive('df-b0ca53c1-d631-4776-ace0-ffbf98f2da3b')\"\n",
              "            title=\"Convert this dataframe to an interactive table.\"\n",
              "            style=\"display:none;\">\n",
              "\n",
              "  <svg xmlns=\"http://www.w3.org/2000/svg\" height=\"24px\" viewBox=\"0 -960 960 960\">\n",
              "    <path d=\"M120-120v-720h720v720H120Zm60-500h600v-160H180v160Zm220 220h160v-160H400v160Zm0 220h160v-160H400v160ZM180-400h160v-160H180v160Zm440 0h160v-160H620v160ZM180-180h160v-160H180v160Zm440 0h160v-160H620v160Z\"/>\n",
              "  </svg>\n",
              "    </button>\n",
              "\n",
              "  <style>\n",
              "    .colab-df-container {\n",
              "      display:flex;\n",
              "      gap: 12px;\n",
              "    }\n",
              "\n",
              "    .colab-df-convert {\n",
              "      background-color: #E8F0FE;\n",
              "      border: none;\n",
              "      border-radius: 50%;\n",
              "      cursor: pointer;\n",
              "      display: none;\n",
              "      fill: #1967D2;\n",
              "      height: 32px;\n",
              "      padding: 0 0 0 0;\n",
              "      width: 32px;\n",
              "    }\n",
              "\n",
              "    .colab-df-convert:hover {\n",
              "      background-color: #E2EBFA;\n",
              "      box-shadow: 0px 1px 2px rgba(60, 64, 67, 0.3), 0px 1px 3px 1px rgba(60, 64, 67, 0.15);\n",
              "      fill: #174EA6;\n",
              "    }\n",
              "\n",
              "    .colab-df-buttons div {\n",
              "      margin-bottom: 4px;\n",
              "    }\n",
              "\n",
              "    [theme=dark] .colab-df-convert {\n",
              "      background-color: #3B4455;\n",
              "      fill: #D2E3FC;\n",
              "    }\n",
              "\n",
              "    [theme=dark] .colab-df-convert:hover {\n",
              "      background-color: #434B5C;\n",
              "      box-shadow: 0px 1px 3px 1px rgba(0, 0, 0, 0.15);\n",
              "      filter: drop-shadow(0px 1px 2px rgba(0, 0, 0, 0.3));\n",
              "      fill: #FFFFFF;\n",
              "    }\n",
              "  </style>\n",
              "\n",
              "    <script>\n",
              "      const buttonEl =\n",
              "        document.querySelector('#df-b0ca53c1-d631-4776-ace0-ffbf98f2da3b button.colab-df-convert');\n",
              "      buttonEl.style.display =\n",
              "        google.colab.kernel.accessAllowed ? 'block' : 'none';\n",
              "\n",
              "      async function convertToInteractive(key) {\n",
              "        const element = document.querySelector('#df-b0ca53c1-d631-4776-ace0-ffbf98f2da3b');\n",
              "        const dataTable =\n",
              "          await google.colab.kernel.invokeFunction('convertToInteractive',\n",
              "                                                    [key], {});\n",
              "        if (!dataTable) return;\n",
              "\n",
              "        const docLinkHtml = 'Like what you see? Visit the ' +\n",
              "          '<a target=\"_blank\" href=https://colab.research.google.com/notebooks/data_table.ipynb>data table notebook</a>'\n",
              "          + ' to learn more about interactive tables.';\n",
              "        element.innerHTML = '';\n",
              "        dataTable['output_type'] = 'display_data';\n",
              "        await google.colab.output.renderOutput(dataTable, element);\n",
              "        const docLink = document.createElement('div');\n",
              "        docLink.innerHTML = docLinkHtml;\n",
              "        element.appendChild(docLink);\n",
              "      }\n",
              "    </script>\n",
              "  </div>\n",
              "\n",
              "\n",
              "<div id=\"df-cd148184-14ec-4573-ae0e-c9fad7f1059c\">\n",
              "  <button class=\"colab-df-quickchart\" onclick=\"quickchart('df-cd148184-14ec-4573-ae0e-c9fad7f1059c')\"\n",
              "            title=\"Suggest charts\"\n",
              "            style=\"display:none;\">\n",
              "\n",
              "<svg xmlns=\"http://www.w3.org/2000/svg\" height=\"24px\"viewBox=\"0 0 24 24\"\n",
              "     width=\"24px\">\n",
              "    <g>\n",
              "        <path d=\"M19 3H5c-1.1 0-2 .9-2 2v14c0 1.1.9 2 2 2h14c1.1 0 2-.9 2-2V5c0-1.1-.9-2-2-2zM9 17H7v-7h2v7zm4 0h-2V7h2v10zm4 0h-2v-4h2v4z\"/>\n",
              "    </g>\n",
              "</svg>\n",
              "  </button>\n",
              "\n",
              "<style>\n",
              "  .colab-df-quickchart {\n",
              "      --bg-color: #E8F0FE;\n",
              "      --fill-color: #1967D2;\n",
              "      --hover-bg-color: #E2EBFA;\n",
              "      --hover-fill-color: #174EA6;\n",
              "      --disabled-fill-color: #AAA;\n",
              "      --disabled-bg-color: #DDD;\n",
              "  }\n",
              "\n",
              "  [theme=dark] .colab-df-quickchart {\n",
              "      --bg-color: #3B4455;\n",
              "      --fill-color: #D2E3FC;\n",
              "      --hover-bg-color: #434B5C;\n",
              "      --hover-fill-color: #FFFFFF;\n",
              "      --disabled-bg-color: #3B4455;\n",
              "      --disabled-fill-color: #666;\n",
              "  }\n",
              "\n",
              "  .colab-df-quickchart {\n",
              "    background-color: var(--bg-color);\n",
              "    border: none;\n",
              "    border-radius: 50%;\n",
              "    cursor: pointer;\n",
              "    display: none;\n",
              "    fill: var(--fill-color);\n",
              "    height: 32px;\n",
              "    padding: 0;\n",
              "    width: 32px;\n",
              "  }\n",
              "\n",
              "  .colab-df-quickchart:hover {\n",
              "    background-color: var(--hover-bg-color);\n",
              "    box-shadow: 0 1px 2px rgba(60, 64, 67, 0.3), 0 1px 3px 1px rgba(60, 64, 67, 0.15);\n",
              "    fill: var(--button-hover-fill-color);\n",
              "  }\n",
              "\n",
              "  .colab-df-quickchart-complete:disabled,\n",
              "  .colab-df-quickchart-complete:disabled:hover {\n",
              "    background-color: var(--disabled-bg-color);\n",
              "    fill: var(--disabled-fill-color);\n",
              "    box-shadow: none;\n",
              "  }\n",
              "\n",
              "  .colab-df-spinner {\n",
              "    border: 2px solid var(--fill-color);\n",
              "    border-color: transparent;\n",
              "    border-bottom-color: var(--fill-color);\n",
              "    animation:\n",
              "      spin 1s steps(1) infinite;\n",
              "  }\n",
              "\n",
              "  @keyframes spin {\n",
              "    0% {\n",
              "      border-color: transparent;\n",
              "      border-bottom-color: var(--fill-color);\n",
              "      border-left-color: var(--fill-color);\n",
              "    }\n",
              "    20% {\n",
              "      border-color: transparent;\n",
              "      border-left-color: var(--fill-color);\n",
              "      border-top-color: var(--fill-color);\n",
              "    }\n",
              "    30% {\n",
              "      border-color: transparent;\n",
              "      border-left-color: var(--fill-color);\n",
              "      border-top-color: var(--fill-color);\n",
              "      border-right-color: var(--fill-color);\n",
              "    }\n",
              "    40% {\n",
              "      border-color: transparent;\n",
              "      border-right-color: var(--fill-color);\n",
              "      border-top-color: var(--fill-color);\n",
              "    }\n",
              "    60% {\n",
              "      border-color: transparent;\n",
              "      border-right-color: var(--fill-color);\n",
              "    }\n",
              "    80% {\n",
              "      border-color: transparent;\n",
              "      border-right-color: var(--fill-color);\n",
              "      border-bottom-color: var(--fill-color);\n",
              "    }\n",
              "    90% {\n",
              "      border-color: transparent;\n",
              "      border-bottom-color: var(--fill-color);\n",
              "    }\n",
              "  }\n",
              "</style>\n",
              "\n",
              "  <script>\n",
              "    async function quickchart(key) {\n",
              "      const quickchartButtonEl =\n",
              "        document.querySelector('#' + key + ' button');\n",
              "      quickchartButtonEl.disabled = true;  // To prevent multiple clicks.\n",
              "      quickchartButtonEl.classList.add('colab-df-spinner');\n",
              "      try {\n",
              "        const charts = await google.colab.kernel.invokeFunction(\n",
              "            'suggestCharts', [key], {});\n",
              "      } catch (error) {\n",
              "        console.error('Error during call to suggestCharts:', error);\n",
              "      }\n",
              "      quickchartButtonEl.classList.remove('colab-df-spinner');\n",
              "      quickchartButtonEl.classList.add('colab-df-quickchart-complete');\n",
              "    }\n",
              "    (() => {\n",
              "      let quickchartButtonEl =\n",
              "        document.querySelector('#df-cd148184-14ec-4573-ae0e-c9fad7f1059c button');\n",
              "      quickchartButtonEl.style.display =\n",
              "        google.colab.kernel.accessAllowed ? 'block' : 'none';\n",
              "    })();\n",
              "  </script>\n",
              "</div>\n",
              "\n",
              "    </div>\n",
              "  </div>\n"
            ],
            "application/vnd.google.colaboratory.intrinsic+json": {
              "type": "dataframe",
              "variable_name": "score",
              "summary": "{\n  \"name\": \"score\",\n  \"rows\": 4339,\n  \"fields\": [\n    {\n      \"column\": \"CustomerID\",\n      \"properties\": {\n        \"dtype\": \"number\",\n        \"std\": 1721.8897579594227,\n        \"min\": 12346.0,\n        \"max\": 18287.0,\n        \"num_unique_values\": 4339,\n        \"samples\": [\n          17785.0,\n          14317.0,\n          15977.0\n        ],\n        \"semantic_type\": \"\",\n        \"description\": \"\"\n      }\n    },\n    {\n      \"column\": \"Recency\",\n      \"properties\": {\n        \"dtype\": \"number\",\n        \"std\": 100,\n        \"min\": 0,\n        \"max\": 373,\n        \"num_unique_values\": 349,\n        \"samples\": [\n          186,\n          117,\n          68\n        ],\n        \"semantic_type\": \"\",\n        \"description\": \"\"\n      }\n    },\n    {\n      \"column\": \"Frequency\",\n      \"properties\": {\n        \"dtype\": \"number\",\n        \"std\": 7,\n        \"min\": 1,\n        \"max\": 210,\n        \"num_unique_values\": 59,\n        \"samples\": [\n          1,\n          2,\n          62\n        ],\n        \"semantic_type\": \"\",\n        \"description\": \"\"\n      }\n    },\n    {\n      \"column\": \"Monetary\",\n      \"properties\": {\n        \"dtype\": \"number\",\n        \"std\": 5055,\n        \"min\": 1,\n        \"max\": 197491,\n        \"num_unique_values\": 1768,\n        \"samples\": [\n          1403,\n          3936,\n          289\n        ],\n        \"semantic_type\": \"\",\n        \"description\": \"\"\n      }\n    },\n    {\n      \"column\": \"RecencyScore\",\n      \"properties\": {\n        \"dtype\": \"category\",\n        \"num_unique_values\": 5,\n        \"samples\": [\n          5,\n          3,\n          2\n        ],\n        \"semantic_type\": \"\",\n        \"description\": \"\"\n      }\n    },\n    {\n      \"column\": \"FrequencyScore\",\n      \"properties\": {\n        \"dtype\": \"category\",\n        \"num_unique_values\": 4,\n        \"samples\": [\n          5,\n          2,\n          1\n        ],\n        \"semantic_type\": \"\",\n        \"description\": \"\"\n      }\n    },\n    {\n      \"column\": \"MonetaryScore\",\n      \"properties\": {\n        \"dtype\": \"category\",\n        \"num_unique_values\": 5,\n        \"samples\": [\n          4,\n          1,\n          2\n        ],\n        \"semantic_type\": \"\",\n        \"description\": \"\"\n      }\n    },\n    {\n      \"column\": \"RFM_Score\",\n      \"properties\": {\n        \"dtype\": \"category\",\n        \"num_unique_values\": 30,\n        \"samples\": [\n          \"525\",\n          \"514\",\n          \"511\"\n        ],\n        \"semantic_type\": \"\",\n        \"description\": \"\"\n      }\n    },\n    {\n      \"column\": \"RFMScore\",\n      \"properties\": {\n        \"dtype\": \"number\",\n        \"std\": 2,\n        \"min\": 3,\n        \"max\": 15,\n        \"num_unique_values\": 12,\n        \"samples\": [\n          13,\n          15,\n          7\n        ],\n        \"semantic_type\": \"\",\n        \"description\": \"\"\n      }\n    }\n  ]\n}"
            }
          },
          "metadata": {},
          "execution_count": 85
        }
      ]
    },
    {
      "cell_type": "markdown",
      "source": [
        "Let's visualize the RFM outcomes.\n",
        "How to interpret/ conclude:\n",
        "\n",
        "*   The higher the value of Recency (1-5), the more recent the customer has purchased something from the store\n",
        "*   The higher the number (1-5), the frequent the customer is\n",
        "*   The higher the monetary score (1-5), the higher the customers are spending at your store\n",
        "\n",
        "\n",
        "\n"
      ],
      "metadata": {
        "id": "uJCtsRGj2Afo"
      }
    },
    {
      "cell_type": "code",
      "source": [
        "import matplotlib.pyplot as plt\n",
        "import seaborn as sns\n",
        "\n",
        "def visualize_rfm(rfm):\n",
        "    plt.figure(figsize=(18, 5))\n",
        "\n",
        "    plt.subplot(1, 3, 1)\n",
        "    sns.histplot(rfm['RecencyScore'], kde=False, bins=5, color='skyblue')\n",
        "    plt.title('Recency Score Distribution')\n",
        "\n",
        "    plt.subplot(1, 3, 2)\n",
        "    sns.histplot(rfm['FrequencyScore'], kde=False, bins=5, color='lightgreen')\n",
        "    plt.title('Frequency Score Distribution')\n",
        "\n",
        "    plt.subplot(1, 3, 3)\n",
        "    sns.histplot(rfm['MonetaryScore'], kde=False, bins=5, color='salmon')\n",
        "    plt.title('Monetary Score Distribution')\n",
        "\n",
        "    plt.tight_layout()\n",
        "    plt.show()\n",
        "\n",
        "    # 2. RFM Segmentation Heatmap\n",
        "    plt.figure(figsize=(10, 6))\n",
        "    rfm_segment_counts = rfm.groupby(['RecencyScore', 'FrequencyScore', 'MonetaryScore']).size().unstack(fill_value=0)\n",
        "\n",
        "    sns.heatmap(rfm_segment_counts, annot=True, fmt='d', cmap='coolwarm')\n",
        "    plt.title('RFM Segmentation Heatmap')\n",
        "    plt.show()\n",
        "\n",
        "visualize_rfm(rfm)  # Calling the visualization function\n"
      ],
      "metadata": {
        "colab": {
          "base_uri": "https://localhost:8080/",
          "height": 861
        },
        "id": "k-BdMh2knyX3",
        "outputId": "8ad5bba4-3ca1-446a-bb77-0a53c95df726"
      },
      "execution_count": 87,
      "outputs": [
        {
          "output_type": "stream",
          "name": "stderr",
          "text": [
            "/usr/local/lib/python3.10/dist-packages/ipykernel/ipkernel.py:283: DeprecationWarning: `should_run_async` will not call `transform_cell` automatically in the future. Please pass the result to `transformed_cell` argument and any exception that happen during thetransform in `preprocessing_exc_tuple` in IPython 7.17 and above.\n",
            "  and should_run_async(code)\n"
          ]
        },
        {
          "output_type": "display_data",
          "data": {
            "text/plain": [
              "<Figure size 1800x500 with 3 Axes>"
            ],
            "image/png": "[encoded data removed]"
          },
          "metadata": {}
        },
        {
          "output_type": "stream",
          "name": "stderr",
          "text": [
            "<ipython-input-87-1f9a1cb42be1>:24: FutureWarning: The default of observed=False is deprecated and will be changed to True in a future version of pandas. Pass observed=False to retain current behavior or observed=True to adopt the future default and silence this warning.\n",
            "  rfm_segment_counts = rfm.groupby(['RecencyScore', 'FrequencyScore', 'MonetaryScore']).size().unstack(fill_value=0)\n"
          ]
        },
        {
          "output_type": "display_data",
          "data": {
            "text/plain": [
              "<Figure size 1000x600 with 2 Axes>"
            ],
            "image/png": "[encoded data removed]"
          },
          "metadata": {}
        }
      ]
    },
    {
      "cell_type": "markdown",
      "source": [
        "Most & Least Sold Items"
      ],
      "metadata": {
        "id": "3Dja2Obu5wrs"
      }
    },
    {
      "cell_type": "code",
      "source": [
        "most_sold = clean_df.groupby(['Description']).agg({\n",
        "    'Quantity' : 'sum'\n",
        "}).sort_values('Quantity', ascending=False)\n",
        "least_sold = clean_df.groupby(['Description']).agg({\n",
        "    'Quantity' : 'sum'\n",
        "}).sort_values('Quantity', ascending=True)\n",
        "\n",
        "print (f\"Most sold item is : {most_sold.index[0]} with a quantity of {most_sold.iloc[0]['Quantity']}\")\n",
        "print (f\"Least sold item is : {least_sold.index[0]} with a quantity of {least_sold.iloc[0]['Quantity']}\")"
      ],
      "metadata": {
        "colab": {
          "base_uri": "https://localhost:8080/"
        },
        "id": "neSbx-Rz1YnE",
        "outputId": "1bbccafc-6c7c-4bdf-ccbf-28fc8bfc0741"
      },
      "execution_count": 102,
      "outputs": [
        {
          "output_type": "stream",
          "name": "stdout",
          "text": [
            "Most sold item is : PAPER CRAFT , LITTLE BIRDIE with a quantity of 80995\n",
            "Least sold item is : SET OF 3 PINK FLYING DUCKS with a quantity of 1\n"
          ]
        },
        {
          "output_type": "stream",
          "name": "stderr",
          "text": [
            "/usr/local/lib/python3.10/dist-packages/ipykernel/ipkernel.py:283: DeprecationWarning: `should_run_async` will not call `transform_cell` automatically in the future. Please pass the result to `transformed_cell` argument and any exception that happen during thetransform in `preprocessing_exc_tuple` in IPython 7.17 and above.\n",
            "  and should_run_async(code)\n"
          ]
        }
      ]
    },
    {
      "cell_type": "markdown",
      "source": [
        "Low Satisfactory Products. Let's just define the products that having less than 6 RFM Score are the low satisfactory products."
      ],
      "metadata": {
        "id": "s1YYbWj5-Q87"
      }
    },
    {
      "cell_type": "code",
      "source": [
        "print (f\"{rfm['RFMScore'].max()} is the highest RFM Score\")\n",
        "print (f\"{rfm['RFMScore'].min()} is the lowest RFM Score\")"
      ],
      "metadata": {
        "colab": {
          "base_uri": "https://localhost:8080/"
        },
        "id": "40EvdwN_37Jd",
        "outputId": "5ce3ac8b-0eb4-4e4c-92d4-c37bf9d8f156"
      },
      "execution_count": 119,
      "outputs": [
        {
          "output_type": "stream",
          "name": "stdout",
          "text": [
            "15 is the highest RFM Score\n",
            "3 is the lowest RFM Score\n"
          ]
        },
        {
          "output_type": "stream",
          "name": "stderr",
          "text": [
            "/usr/local/lib/python3.10/dist-packages/ipykernel/ipkernel.py:283: DeprecationWarning: `should_run_async` will not call `transform_cell` automatically in the future. Please pass the result to `transformed_cell` argument and any exception that happen during thetransform in `preprocessing_exc_tuple` in IPython 7.17 and above.\n",
            "  and should_run_async(code)\n"
          ]
        }
      ]
    },
    {
      "cell_type": "code",
      "source": [
        "lowrfm_customers = rfm[rfm['RFMScore'] <= 6]\n",
        "lowrfm_transactions = clean_df[clean_df['CustomerID'].isin(lowrfm_customers['CustomerID'])]\n",
        "products_withlowrfm = lowrfm_transactions.groupby('Description').agg({\n",
        "    'Quantity' : 'sum'\n",
        "}).sort_values('Quantity', ascending=True)\n",
        "products_withlowrfm.head(20)"
      ],
      "metadata": {
        "colab": {
          "base_uri": "https://localhost:8080/"
        },
        "id": "X3Bsld1Y-x9N",
        "outputId": "2a1a93d8-45c5-4325-c9a0-8cba678b70dc"
      },
      "execution_count": 132,
      "outputs": [
        {
          "output_type": "stream",
          "name": "stderr",
          "text": [
            "/usr/local/lib/python3.10/dist-packages/ipykernel/ipkernel.py:283: DeprecationWarning: `should_run_async` will not call `transform_cell` automatically in the future. Please pass the result to `transformed_cell` argument and any exception that happen during thetransform in `preprocessing_exc_tuple` in IPython 7.17 and above.\n",
            "  and should_run_async(code)\n"
          ]
        },
        {
          "output_type": "execute_result",
          "data": {
            "text/plain": [
              "3358"
            ]
          },
          "metadata": {},
          "execution_count": 132
        }
      ]
    },
    {
      "cell_type": "markdown",
      "source": [
        "total 3358 low rfm products are there"
      ],
      "metadata": {
        "id": "YS9elTjhFQwy"
      }
    },
    {
      "cell_type": "code",
      "source": [
        "least_sold_3358 = least_sold.index[0:3358]\n",
        "print (f\"Least sold items are : {least_sold.index[0:3358]} with a quantity of {least_sold.iloc[0:3358]['Quantity']}\")"
      ],
      "metadata": {
        "colab": {
          "base_uri": "https://localhost:8080/"
        },
        "id": "2oyvKPJzAzl5",
        "outputId": "624512be-5b27-48d9-c8ac-3193ebe5d9cb"
      },
      "execution_count": 135,
      "outputs": [
        {
          "output_type": "stream",
          "name": "stdout",
          "text": [
            "Least sold items are : Index(['SET OF 3 PINK FLYING DUCKS', 'DOLPHIN WINDMILL',\n",
            "       'CRACKED GLAZE EARRINGS BROWN', 'LASER CUT MULTI STRAND NECKLACE',\n",
            "       'SET/3 TALL GLASS CANDLE HOLDER PINK', 'CHERRY BLOSSOM PURSE',\n",
            "       'HEN HOUSE W CHICK IN NEST', 'CAKE STAND LACE WHITE',\n",
            "       'MARIE ANTOIENETT TRINKET BOX GOLD', 'MUMMY MOUSE RED GINGHAM RIBBON',\n",
            "       ...\n",
            "       'PACK OF 6 COCKTAIL PARASOL STRAWS', 'GLITTER CHRISTMAS STAR ',\n",
            "       'VINTAGE CHRISTMAS CAKE FRILL', 'SCANDINAVIAN PAISLEY PICNIC BAG',\n",
            "       'KNITTED UNION FLAG HOT WATER BOTTLE', 'SET OF 4 JAM JAR MAGNETS',\n",
            "       'MINI PLAYING CARDS DOLLY GIRL ', 'CHILDRENS CUTLERY RETROSPOT RED ',\n",
            "       'SET/20 STRAWBERRY PAPER NAPKINS ', 'MUSICAL ZINC HEART DECORATION '],\n",
            "      dtype='object', name='Description', length=3358) with a quantity of Description\n",
            "SET OF 3 PINK FLYING DUCKS                1\n",
            "DOLPHIN WINDMILL                          1\n",
            "CRACKED GLAZE EARRINGS BROWN              1\n",
            "LASER CUT MULTI STRAND NECKLACE           1\n",
            "SET/3 TALL GLASS CANDLE HOLDER PINK       1\n",
            "                                       ... \n",
            "SET OF 4 JAM JAR MAGNETS               2472\n",
            "MINI PLAYING CARDS DOLLY GIRL          2476\n",
            "CHILDRENS CUTLERY RETROSPOT RED        2492\n",
            "SET/20 STRAWBERRY PAPER NAPKINS        2494\n",
            "MUSICAL ZINC HEART DECORATION          2499\n",
            "Name: Quantity, Length: 3358, dtype: int64\n"
          ]
        },
        {
          "output_type": "stream",
          "name": "stderr",
          "text": [
            "/usr/local/lib/python3.10/dist-packages/ipykernel/ipkernel.py:283: DeprecationWarning: `should_run_async` will not call `transform_cell` automatically in the future. Please pass the result to `transformed_cell` argument and any exception that happen during thetransform in `preprocessing_exc_tuple` in IPython 7.17 and above.\n",
            "  and should_run_async(code)\n"
          ]
        }
      ]
    },
    {
      "cell_type": "code",
      "source": [
        "low_rfm_products_df = products_withlowrfm.reset_index()\n",
        "\n",
        "least_sold_products_df = pd.DataFrame(least_sold_3358).reset_index()\n",
        "\n",
        "# Display both DataFrames\n",
        "print(\"Low RFM Products:\")\n",
        "print(low_rfm_products_df.head())\n",
        "\n",
        "print(\"Least Sold Products:\")\n",
        "print(least_sold_products_df.head())\n"
      ],
      "metadata": {
        "colab": {
          "base_uri": "https://localhost:8080/"
        },
        "id": "QUJQblrqDXCc",
        "outputId": "41bed11b-8033-41ef-9077-2a363fb07bab"
      },
      "execution_count": 137,
      "outputs": [
        {
          "output_type": "stream",
          "name": "stdout",
          "text": [
            "Low RFM Products:\n",
            "                           Description  Quantity\n",
            "0       BLUE WIRE SPIRAL CANDLE HOLDER         1\n",
            "1   BLUE ORGANDY ROUND LAMPSHADE W BEA         1\n",
            "2           BLUE MURANO TWIST NECKLACE         1\n",
            "3           BLUE MURANO TWIST BRACELET         1\n",
            "4  SILVER 2 STRAND NECKLACE-LEAF CHARM         1\n",
            "Least Sold Products:\n",
            "   index                          Description\n",
            "0      0           SET OF 3 PINK FLYING DUCKS\n",
            "1      1                     DOLPHIN WINDMILL\n",
            "2      2         CRACKED GLAZE EARRINGS BROWN\n",
            "3      3      LASER CUT MULTI STRAND NECKLACE\n",
            "4      4  SET/3 TALL GLASS CANDLE HOLDER PINK\n"
          ]
        },
        {
          "output_type": "stream",
          "name": "stderr",
          "text": [
            "/usr/local/lib/python3.10/dist-packages/ipykernel/ipkernel.py:283: DeprecationWarning: `should_run_async` will not call `transform_cell` automatically in the future. Please pass the result to `transformed_cell` argument and any exception that happen during thetransform in `preprocessing_exc_tuple` in IPython 7.17 and above.\n",
            "  and should_run_async(code)\n"
          ]
        }
      ]
    },
    {
      "cell_type": "code",
      "source": [
        "common_items = pd.merge(low_rfm_products_df, least_sold_products_df, on='Description', suffixes=('_low_rfm', '_least_sold'))\n",
        "print(\"Common items between Low RFM products and Least Sold products:\")\n",
        "print(common_items)\n"
      ],
      "metadata": {
        "colab": {
          "base_uri": "https://localhost:8080/"
        },
        "id": "1_AAAi03FwU8",
        "outputId": "a3cca56a-f7b1-4d5b-bb8a-195d027f5632"
      },
      "execution_count": 139,
      "outputs": [
        {
          "output_type": "stream",
          "name": "stdout",
          "text": [
            "Common items between Low RFM products and Least Sold products:\n",
            "                              Description  Quantity  index\n",
            "0          BLUE WIRE SPIRAL CANDLE HOLDER         1    404\n",
            "1      BLUE ORGANDY ROUND LAMPSHADE W BEA         1    463\n",
            "2              BLUE MURANO TWIST NECKLACE         1    178\n",
            "3              BLUE MURANO TWIST BRACELET         1    620\n",
            "4     SILVER 2 STRAND NECKLACE-LEAF CHARM         1     60\n",
            "...                                   ...       ...    ...\n",
            "2837      CANDLEHOLDER PINK HANGING HEART       463   3234\n",
            "2838           PARTY CONES CANDY ASSORTED       468   3100\n",
            "2839           METAL TUBE CHIME ON BAMBOO       469   2169\n",
            "2840     SET/20 STRAWBERRY PAPER NAPKINS        511   3356\n",
            "2841       EMBOSSED GLASS TEALIGHT HOLDER       584   3323\n",
            "\n",
            "[2842 rows x 3 columns]\n"
          ]
        },
        {
          "output_type": "stream",
          "name": "stderr",
          "text": [
            "/usr/local/lib/python3.10/dist-packages/ipykernel/ipkernel.py:283: DeprecationWarning: `should_run_async` will not call `transform_cell` automatically in the future. Please pass the result to `transformed_cell` argument and any exception that happen during thetransform in `preprocessing_exc_tuple` in IPython 7.17 and above.\n",
            "  and should_run_async(code)\n"
          ]
        }
      ]
    },
    {
      "cell_type": "markdown",
      "source": [
        "# **The above list of products are underperforming that both low RFM customers are buying and that have low sales overall.**"
      ],
      "metadata": {
        "id": "bzBb40rnHIyJ"
      }
    },
    {
      "cell_type": "code",
      "source": [
        "common_items.to_csv('common_low_rfm_least_sold.csv', index=False)\n",
        "print(\"Common items saved to 'common_low_rfm_least_sold.csv'.\")"
      ],
      "metadata": {
        "colab": {
          "base_uri": "https://localhost:8080/"
        },
        "id": "e9bmjTuIHgQA",
        "outputId": "9ffeb0d7-cc76-4430-e8e1-afdf1eab0941"
      },
      "execution_count": 140,
      "outputs": [
        {
          "output_type": "stream",
          "name": "stdout",
          "text": [
            "Common items saved to 'common_low_rfm_least_sold.csv'.\n"
          ]
        },
        {
          "output_type": "stream",
          "name": "stderr",
          "text": [
            "/usr/local/lib/python3.10/dist-packages/ipykernel/ipkernel.py:283: DeprecationWarning: `should_run_async` will not call `transform_cell` automatically in the future. Please pass the result to `transformed_cell` argument and any exception that happen during thetransform in `preprocessing_exc_tuple` in IPython 7.17 and above.\n",
            "  and should_run_async(code)\n"
          ]
        }
      ]
    },
    {
      "cell_type": "code",
      "source": [],
      "metadata": {
        "id": "2IfSO-C1Hk5O"
      },
      "execution_count": null,
      "outputs": []
    }
  ]
}